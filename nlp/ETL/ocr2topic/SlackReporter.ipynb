{
 "cells": [
  {
   "cell_type": "code",
   "execution_count": null,
   "id": "a86aa37a-2a6a-4218-800e-a9f47bba9ac1",
   "metadata": {},
   "outputs": [],
   "source": [
    "%pip install slack-sdk"
   ]
  },
  {
   "cell_type": "code",
   "execution_count": null,
   "id": "740221c6-face-48ee-998f-c630c8f0e005",
   "metadata": {},
   "outputs": [],
   "source": [
    "# Cell 1 — Imports y carga de estado\n",
    "\n",
    "import os\n",
    "import json\n",
    "from slack_sdk import WebClient\n",
    "from slack_sdk.errors import SlackApiError\n",
    "\n",
    "SLACK_TOKEN   = os.environ[\"SLACK_BOT_TOKEN\"]\n",
    "SLACK_CHANNEL = os.environ.get(\"slack_channel\", \"#ocr-reports\")\n",
    "STATUS_PATH   = \"status.json\"\n",
    "\n",
    "client = WebClient(token=SLACK_TOKEN)\n",
    "\n",
    "# 1) Cargar status.json\n",
    "with open(STATUS_FILE, 'r', encoding='utf-8') as f:\n",
    "    statuses = json.load(f)\n",
    "\n",
    "# 2) Calcular métricas\n",
    "count_processed = sum(1 for e in statuses if e[\"status\"] == \"success\")\n",
    "count_errors= sum(1 for e in statuses if e[\"status\"] == \"error\")\n",
    "errors = [e for e in statuses if e[\"status\"] == \"error\"]"
   ]
  },
  {
   "cell_type": "code",
   "execution_count": null,
   "id": "fa7d4135-cdeb-46d3-a02c-86d14c6dd629",
   "metadata": {},
   "outputs": [],
   "source": [
    "repo  = os.environ.get(\"lakefs_repository\",\"vital-oceans\")\n",
    "commit = os.environ.get(\"lakefs_commit\",\"92c647c3f1ac9bb79fdaae5860da56ad93b5eb4c522d5a328c30f7f7c700f7c3\")\n",
    "topic_id = os.environ.get(\"topic_id\")"
   ]
  },
  {
   "cell_type": "code",
   "execution_count": null,
   "id": "10917336-c450-4f05-9046-4e8edcd69881",
   "metadata": {},
   "outputs": [],
   "source": [
    "# 4) Construir mensaje\n",
    "text = (\n",
    "    \"*📊 Reporte final OCR*\\n\"\n",
    "    f\"• Repositorio: `{repo}`\\n\"\n",
    "    f\"• Commit:     `{commit}`\\n\"\n",
    "    f\"• Procesados: *{count_processed}* archivos\\n\"\n",
    "    f\"• Errores:    *{count_errors}* archivos\\n\"\n",
    "    f\"• Topic ID:     `{topic_id}`\\n\"\n",
    ")\n",
    "\n",
    "if count_errors > 0:\n",
    "    text += \"\\n\\n*Archivos con error:*\\n\"\n",
    "    for err in errors[:10]:\n",
    "        text += f\"  – `{err['file']}`\\n\"\n",
    "    if count_errors > 10:\n",
    "        text += f\"  _…y {count_errors - 10} más_\\n\"\n",
    "\n",
    "# 5) Enviar a Slack\n",
    "try:\n",
    "    resp = client.chat_postMessage(\n",
    "        channel=SLACK_CHANNEL,\n",
    "        text=text\n",
    "    )\n",
    "    print(f\"✅ Reporte enviado a {SLACK_CHANNEL} (ts={resp['ts']})\")\n",
    "except SlackApiError as e:\n",
    "    print(f\"❌ Error enviando a Slack: {e.response['error']}\")"
   ]
  }
 ],
 "metadata": {
  "kernelspec": {
   "display_name": "Python 3.9",
   "language": "python",
   "name": "python3"
  },
  "language_info": {
   "codemirror_mode": {
    "name": "ipython",
    "version": 3
   },
   "file_extension": ".py",
   "mimetype": "text/x-python",
   "name": "python",
   "nbconvert_exporter": "python",
   "pygments_lexer": "ipython3",
   "version": "3.9.18"
  }
 },
 "nbformat": 4,
 "nbformat_minor": 5
}
