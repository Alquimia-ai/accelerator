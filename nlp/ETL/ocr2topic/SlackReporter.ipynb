{
 "cells": [
  {
   "cell_type": "code",
   "execution_count": null,
   "id": "a86aa37a-2a6a-4218-800e-a9f47bba9ac1",
   "metadata": {},
   "outputs": [],
   "source": [
    "%pip install slack-sdk"
   ]
  },
  {
   "cell_type": "code",
   "execution_count": null,
   "id": "740221c6-face-48ee-998f-c630c8f0e005",
   "metadata": {},
   "outputs": [],
   "source": [
    "# Cell 1 — Imports & Load status.json\n",
    "import os\n",
    "import json\n",
    "from slack_sdk import WebClient\n",
    "from slack_sdk.errors import SlackApiError\n",
    "\n",
    "# Environment variables\n",
    "SLACK_TOKEN   = os.environ[\"SLACK_BOT_TOKEN\"]\n",
    "SLACK_CHANNEL = os.environ.get(\"SLACK_CHANNEL\", \"#ocr-reports\")\n",
    "STATUS_PATH   = \"status.json\"\n",
    "\n",
    "# Initialize Slack client\n",
    "slack = WebClient(token=SLACK_TOKEN)\n",
    "\n",
    "# Load the status file (dict with keys: repository, commit, processed, errors)\n",
    "with open(STATUS_PATH, \"r\", encoding=\"utf-8\") as f:\n",
    "    status = json.load(f)\n",
    "\n",
    "repo      = status.get(\"repository\", \"<unknown>\")\n",
    "commit    = status.get(\"commit\",     \"<unknown>\")\n",
    "processed = status.get(\"processed\",  [])\n",
    "errors    = status.get(\"errors\",     [])\n",
    "topic_id = os.environ.get(\"topic_id\")"
   ]
  },
  {
   "cell_type": "code",
   "execution_count": null,
   "id": "6824c570-b64a-4453-8b70-0c2fbbc756cb",
   "metadata": {},
   "outputs": [],
   "source": [
    "# Cell 2 — Build & send report (with processed files list)\n",
    "count_processed = len(processed)\n",
    "count_errors    = len(errors)\n",
    "\n",
    "text = (\n",
    "    \"*📊 ETL & TWYD Report*\\n\"\n",
    "    f\"• Repository: `{repo}`\\n\"\n",
    "    f\"• Commit:     `{commit}`\\n\"\n",
    "    f\"• Processed:  *{count_processed}* files\\n\"\n",
    "    f\"• Topic id:     *{topic_id}* \\n\"\n",
    ")\n",
    "\n",
    "# List processed files\n",
    "if count_processed > 0:\n",
    "    text += \"\\n\\n*Processed files:*\\n\"\n",
    "    # List up to 10 filenames\n",
    "    for fn in processed[:10]:\n",
    "        text += f\"  – `{fn}`\\n\"\n",
    "    if count_processed > 10:\n",
    "        text += f\"  _…and {count_processed - 10} more_\\n\"\n",
    "\n",
    "# List errors if any\n",
    "if count_errors > 0:\n",
    "    text += \"\\n\\n*Errors:*\\n\"\n",
    "    for err in errors[:10]:\n",
    "        text += f\"  – `{err['file']}`: {err['error']}\\n\"\n",
    "    if count_errors > 10:\n",
    "        text += f\"  _…and {count_errors - 10} more_\\n\"\n",
    "\n",
    "try:\n",
    "    resp = slack.chat_postMessage(channel=SLACK_CHANNEL, text=text)\n",
    "    print(f\"✅ Report sent to {SLACK_CHANNEL} (ts={resp['ts']})\")\n",
    "except SlackApiError as e:\n",
    "    print(f\"❌ Slack API error: {e.response['error']}\")"
   ]
  }
 ],
 "metadata": {
  "kernelspec": {
   "display_name": "Python 3.9",
   "language": "python",
   "name": "python3"
  },
  "language_info": {
   "codemirror_mode": {
    "name": "ipython",
    "version": 3
   },
   "file_extension": ".py",
   "mimetype": "text/x-python",
   "name": "python",
   "nbconvert_exporter": "python",
   "pygments_lexer": "ipython3",
   "version": "3.9.18"
  }
 },
 "nbformat": 4,
 "nbformat_minor": 5
}
