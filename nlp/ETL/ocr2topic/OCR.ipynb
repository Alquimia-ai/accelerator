{
 "cells": [
  {
   "cell_type": "markdown",
   "id": "c360820d-2c08-47dd-a89a-0ef549be84c4",
   "metadata": {},
   "source": [
    "# [**Mistral OCR**](https://mistral.ai/news/mistral-ocr)\n",
    "\n",
    "Check API usage [here](https://console.mistral.ai/usage).\n",
    "\n",
    "---"
   ]
  },
  {
   "cell_type": "code",
   "execution_count": 1,
   "id": "66a876a6-8e12-4ee1-bec5-f473f950b677",
   "metadata": {
    "tags": []
   },
   "outputs": [
    {
     "name": "stdout",
     "output_type": "stream",
     "text": [
      "\n",
      "\u001b[1m[\u001b[0m\u001b[34;49mnotice\u001b[0m\u001b[1;39;49m]\u001b[0m\u001b[39;49m A new release of pip available: \u001b[0m\u001b[31;49m22.2.2\u001b[0m\u001b[39;49m -> \u001b[0m\u001b[32;49m25.1.1\u001b[0m\n",
      "\u001b[1m[\u001b[0m\u001b[34;49mnotice\u001b[0m\u001b[1;39;49m]\u001b[0m\u001b[39;49m To update, run: \u001b[0m\u001b[32;49mpip install --upgrade pip\u001b[0m\n"
     ]
    }
   ],
   "source": [
    "!pip install mistralai lakefs docx2pdf slack-sdk -q"
   ]
  },
  {
   "cell_type": "code",
   "execution_count": 2,
   "id": "53ae51b5-c52a-445f-8ec1-4f200f72a557",
   "metadata": {},
   "outputs": [],
   "source": [
    "from mistralai import Mistral\n",
    "from lakefs.client import Client\n",
    "from lakefs import Repository\n",
    "from docx2pdf import convert\n",
    "import os, io, json, base64, requests\n",
    "from slack_sdk import WebClient\n",
    "from slack_sdk.errors import SlackApiError"
   ]
  },
  {
   "cell_type": "code",
   "execution_count": 4,
   "id": "fd99c891-00cb-43ea-a69c-c42d039f849d",
   "metadata": {
    "tags": []
   },
   "outputs": [],
   "source": [
    "# ── Configuration ─────────────────────────────────────────────────────────────\n",
    "API_KEY = os.environ.get(\"MISTRAL_AI_API_KEY\")\n",
    "URL = os.environ.get(\"MISTRAL_AI_URL\")\n",
    "LAKEFS_HOST = os.environ.get(\"LAKEFS_HOST\")\n",
    "LAKEFS_USERNAME = os.environ.get(\"LAKEFS_USERNAME\")\n",
    "LAKEFS_PASSWORD = os.environ.get(\"LAKEFS_PASSWORD\")\n",
    "LAKEFS_REPOSITORY = os.environ.get(\"lakefs_repository\",\"vital-oceans\")\n",
    "LAKEFS_COMMIT = os.environ.get(\"lakefs_commit\",\"92c647c3f1ac9bb79fdaae5860da56ad93b5eb4c522d5a328c30f7f7c700f7c3\")\n",
    "SLACK_TOKEN = os.environ[\"SLACK_BOT_TOKEN\"]\n",
    "SLACK_CHANNEL = os.environ.get(\"slack_channel\", \"#ocr-reports\")\n",
    "\n",
    "ocr_client = Mistral(API_KEY)\n",
    "slack = WebClient(token=SLACK_TOKEN)"
   ]
  },
  {
   "cell_type": "code",
   "execution_count": 5,
   "id": "af49279a-4a9b-4c2b-a513-97cbea332586",
   "metadata": {},
   "outputs": [],
   "source": [
    "client = Client(\n",
    "    host=LAKEFS_HOST,\n",
    "    username=LAKEFS_USERNAME,\n",
    "    password=LAKEFS_PASSWORD,\n",
    ")\n",
    "repo = Repository(repository_id=LAKEFS_REPOSITORY, client=client)\n",
    "ref  = repo.ref(LAKEFS_COMMIT)"
   ]
  },
  {
   "cell_type": "code",
   "execution_count": 6,
   "id": "2c2430cc-74ee-47b6-bed0-fd75d40d0335",
   "metadata": {},
   "outputs": [],
   "source": [
    "def get_signed_url_from_bytes(file_bytes: bytes, file_name: str) -> str:\n",
    "    uploaded = ocr_client.files.upload(\n",
    "        file={\"file_name\": file_name, \"content\": file_bytes},\n",
    "        purpose=\"ocr\"\n",
    "    )\n",
    "    signed = ocr_client.files.get_signed_url(file_id=uploaded.id)\n",
    "    return signed.url\n",
    "\n",
    "def run_mistral_ocr(file_name: str, signed_url: str) -> dict:\n",
    "    headers = {\n",
    "        \"Authorization\": f\"Bearer {API_KEY}\",\n",
    "        \"Content-Type\": \"application/json\"\n",
    "    }\n",
    "    payload = {\n",
    "        \"model\": \"mistral-ocr-2503\",\n",
    "        \"id\": \"mistral-ocr-latest\",\n",
    "        \"document\": {\n",
    "            \"type\": \"document_url\",\n",
    "            \"document_url\": signed_url,\n",
    "            \"document_name\": file_name,\n",
    "        },\n",
    "        \"include_image_base64\": True\n",
    "    }\n",
    "    resp = requests.post(URL, json=payload, headers=headers)\n",
    "    if resp.status_code == 429:\n",
    "        raise RuntimeError(\n",
    "            \"Mistral AI API key rate limit exceeded (HTTP 429).\"\n",
    "        )\n",
    "    if resp.status_code != 200:\n",
    "        raise RuntimeError(f\"OCR falló (HTTP {resp.status_code}): {resp.text}\")\n",
    "    return resp.json()\n",
    "\n",
    "def process_ocr_response(file_name: str, ocr_response: dict):\n",
    "    stem       = os.path.splitext(file_name)[0]\n",
    "    output_dir = os.path.join(\"ocr-output\", stem)\n",
    "    os.makedirs(output_dir, exist_ok=True)\n",
    "\n",
    "    md_path = os.path.join(output_dir, f\"{stem}.md\")\n",
    "    img_idx = 0\n",
    "    with open(md_path, 'w', encoding='utf-8') as md:\n",
    "        for page in ocr_response.get('pages', []):\n",
    "            md.write(page.get(\"markdown\", \"\"))\n",
    "            for image in page.get(\"images\", []):\n",
    "                b64 = image.get(\"image_base64\", \"\").split(\",\")[-1]\n",
    "                if not b64: continue\n",
    "                img_file = f\"img-{img_idx}.jpeg\"\n",
    "                with open(os.path.join(output_dir, img_file), \"wb\") as f:\n",
    "                    f.write(base64.b64decode(b64))\n",
    "                img_idx += 1\n",
    "\n",
    "def send_error_report(file_name: str, error_msg: str):\n",
    "    text = (\n",
    "        f\":warning: *Error OCR* procesando `{file_name}`:\\n\"\n",
    "        f\"```{error_msg}```\"\n",
    "    )\n",
    "    try:\n",
    "        slack.chat_postMessage(channel=SLACK_CHANNEL, text=text)\n",
    "    except SlackApiError as e:\n",
    "        print(f\"Error enviando Slack: {e.response['error']}\")"
   ]
  },
  {
   "cell_type": "code",
   "execution_count": 7,
   "id": "b92235fd-fd1e-40f2-a7c3-4037578ad5dc",
   "metadata": {},
   "outputs": [
    {
     "name": "stdout",
     "output_type": "stream",
     "text": [
      "✅ status.json escrito: 40 procesados, 0 errores.\n"
     ]
    }
   ],
   "source": [
    "status = {\n",
    "    \"repository\": LAKEFS_REPOSITORY,\n",
    "    \"commit\":     LAKEFS_COMMIT,\n",
    "    \"processed_files\": [],\n",
    "    \"errors\":          []\n",
    "}\n",
    "\n",
    "for obj_info in ref.objects(prefix=\"\"):\n",
    "    key = obj_info.path\n",
    "    if not key.lower().endswith((\".pdf\", \".docx\")):\n",
    "        continue\n",
    "\n",
    "    file_name = os.path.basename(key)\n",
    "    try:\n",
    "        # 1) Leer bytes de lakeFS\n",
    "        with ref.object(path=key).reader(mode=\"rb\") as r:\n",
    "            file_bytes = r.read()\n",
    "\n",
    "        # 2) OCR\n",
    "        signed    = get_signed_url_from_bytes(file_bytes, file_name)\n",
    "        ocr_resp  = run_mistral_ocr(file_name, signed)\n",
    "        process_ocr_response(file_name, ocr_resp)\n",
    "\n",
    "        # 3) Marcar como procesado\n",
    "        status[\"processed_files\"].append(file_name)\n",
    "\n",
    "    except Exception as e:\n",
    "        err = str(e)\n",
    "        status[\"errors\"].append({\"file\": file_name, \"error\": err})\n",
    "        send_error_report(file_name, err)\n",
    "\n",
    "# 4) Escribir status.json\n",
    "with open(\"status.json\", \"w\", encoding=\"utf-8\") as f:\n",
    "    json.dump(status, f, indent=2)\n",
    "\n",
    "print(\n",
    "    f\"✅ status.json escrito: \"\n",
    "    f\"{len(status['processed_files'])} procesados, \"\n",
    "    f\"{len(status['errors'])} errores.\"\n",
    ")"
   ]
  },
  {
   "cell_type": "markdown",
   "id": "3e7b7948-cd39-4f27-a13e-dcc807d713ed",
   "metadata": {},
   "source": [
    "---"
   ]
  },
  {
   "cell_type": "code",
   "execution_count": null,
   "id": "bea1a0d5-abb4-412d-b894-57b63944aba0",
   "metadata": {},
   "outputs": [],
   "source": []
  }
 ],
 "metadata": {
  "kernelspec": {
   "display_name": "Python 3.9",
   "language": "python",
   "name": "python3"
  },
  "language_info": {
   "codemirror_mode": {
    "name": "ipython",
    "version": 3
   },
   "file_extension": ".py",
   "mimetype": "text/x-python",
   "name": "python",
   "nbconvert_exporter": "python",
   "pygments_lexer": "ipython3",
   "version": "3.9.18"
  }
 },
 "nbformat": 4,
 "nbformat_minor": 5
}
