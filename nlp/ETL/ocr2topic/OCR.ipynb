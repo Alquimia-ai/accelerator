{
 "cells": [
  {
   "cell_type": "markdown",
   "id": "c360820d-2c08-47dd-a89a-0ef549be84c4",
   "metadata": {},
   "source": [
    "# [**Mistral OCR**](https://mistral.ai/news/mistral-ocr)\n",
    "\n",
    "Check API usage [here](https://console.mistral.ai/usage).\n",
    "\n",
    "---"
   ]
  },
  {
   "cell_type": "code",
   "execution_count": null,
   "id": "66a876a6-8e12-4ee1-bec5-f473f950b677",
   "metadata": {
    "tags": []
   },
   "outputs": [],
   "source": [
    "!pip install mistralai lakefs docx2pdf -q"
   ]
  },
  {
   "cell_type": "code",
   "execution_count": null,
   "id": "53ae51b5-c52a-445f-8ec1-4f200f72a557",
   "metadata": {},
   "outputs": [],
   "source": [
    "from mistralai import Mistral\n",
    "import requests\n",
    "import base64\n",
    "import os\n",
    "from lakefs.client import Client\n",
    "from lakefs import Repository\n",
    "from docx2pdf import convert\n",
    "import io"
   ]
  },
  {
   "cell_type": "code",
   "execution_count": null,
   "id": "fd99c891-00cb-43ea-a69c-c42d039f849d",
   "metadata": {
    "tags": []
   },
   "outputs": [],
   "source": [
    "# ── Configuration ─────────────────────────────────────────────────────────────\n",
    "API_KEY = os.environ.get(\"MISTRAL_AI_API_KEY\")\n",
    "URL = os.environ.get(\"MISTRAL_AI_URL\")\n",
    "LAKEFS_HOST = os.environ.get(\"LAKEFS_HOST\")\n",
    "LAKEFS_USERNAME = os.environ.get(\"LAKEFS_USERNAME\")\n",
    "LAKEFS_PASSWORD = os.environ.get(\"LAKEFS_PASSWORD\")\n",
    "LAKEFS_REPOSITORY = os.environ.get(\"lakefs_repository\",\"vital-oceans\")\n",
    "LAKEFS_COMMIT = os.environ.get(\"lakefs_commit\",\"92c647c3f1ac9bb79fdaae5860da56ad93b5eb4c522d5a328c30f7f7c700f7c3\")\n",
    "\n",
    "ocr_client = Mistral(API_KEY)"
   ]
  },
  {
   "cell_type": "code",
   "execution_count": null,
   "id": "af49279a-4a9b-4c2b-a513-97cbea332586",
   "metadata": {},
   "outputs": [],
   "source": [
    "client = Client(\n",
    "    host=LAKEFS_HOST,\n",
    "    username=LAKEFS_USERNAME,\n",
    "    password=LAKEFS_PASSWORD,\n",
    ")\n",
    "repo = Repository(repository_id=LAKEFS_REPOSITORY, client=client)\n",
    "ref  = repo.ref(LAKEFS_COMMIT)"
   ]
  },
  {
   "cell_type": "code",
   "execution_count": null,
   "id": "2c2430cc-74ee-47b6-bed0-fd75d40d0335",
   "metadata": {},
   "outputs": [],
   "source": [
    "# ── Helpers ───────────────────────────────────────────────────────────────────\n",
    "def get_signed_url_from_bytes(file_bytes: bytes, file_name: str) -> str:\n",
    "    \"\"\"Upload raw bytes to Mistral and get a signed URL for OCR.\"\"\"\n",
    "    uploaded = ocr_client.files.upload(\n",
    "        file={\n",
    "            \"file_name\": file_name,\n",
    "            \"content\": file_bytes,      # raw bytes\n",
    "        },\n",
    "        purpose=\"ocr\"\n",
    "    )\n",
    "    # <-- use keyword arg here\n",
    "    signed = ocr_client.files.get_signed_url(file_id=uploaded.id)\n",
    "    return signed.url\n",
    "\n",
    "\n",
    "def run_mistral_ocr(file_name: str, signed_url: str) -> dict:\n",
    "    \"\"\"Send the document URL to Mistral OCR and return the parsed response,\n",
    "    with special handling for API rate limits (HTTP 429).\"\"\"\n",
    "    headers = {\n",
    "        \"Authorization\": f\"Bearer {API_KEY}\",\n",
    "        \"Content-Type\": \"application/json\"\n",
    "    }\n",
    "    payload = {\n",
    "        \"model\": \"mistral-ocr-2503\",\n",
    "        \"id\": \"mistral-ocr-latest\",\n",
    "        \"document\": {\n",
    "            \"type\": \"document_url\",\n",
    "            \"document_url\": signed_url,\n",
    "            \"document_name\": file_name,\n",
    "        },\n",
    "        \"include_image_base64\": True\n",
    "    }\n",
    "\n",
    "    print(f\"\\033[1mProcessing {file_name}...\\033[0m\")\n",
    "    resp = requests.post(URL, json=payload, headers=headers)\n",
    "\n",
    "    if resp.status_code == 429:\n",
    "        # rate limit hit\n",
    "        raise RuntimeError(\n",
    "            \"Mistral AI API key rate limit exceeded (HTTP 429). \"\n",
    "            \"Please wait and retry after some time.\"\n",
    "        )\n",
    "    if resp.status_code != 200:\n",
    "        # other errors\n",
    "        raise RuntimeError(\n",
    "            f\"OCR failed (HTTP {resp.status_code}): {resp.text}\"\n",
    "        )\n",
    "\n",
    "    info = resp.json()\n",
    "    pages = info.get(\"usage_info\", {}).get(\"pages_processed\")\n",
    "    print(f\" → processed {pages} pages.\")\n",
    "    return info\n",
    "\n",
    "def process_ocr_response(file_name: str, ocr_response: dict):\n",
    "    \"\"\"Saves the OCR result as Markdown and extracts images, using only the basename.\"\"\"\n",
    "    # file_name is something like \"mydoc.pdf\"\n",
    "    stem = os.path.splitext(file_name)[0]  # => \"mydoc\"\n",
    "    output_dir = os.path.join(\"ocr-output\", stem)\n",
    "    os.makedirs(output_dir, exist_ok=True)\n",
    "\n",
    "    md_path = os.path.join(output_dir, f\"{stem}.md\")\n",
    "    img_idx = 0\n",
    "\n",
    "    with open(md_path, 'w', encoding='utf-8') as md:\n",
    "        for page in ocr_response.get('pages', []):\n",
    "            md.write(page.get(\"markdown\", \"\"))\n",
    "            for image in page.get(\"images\", []):\n",
    "                b64 = image.get(\"image_base64\", \"\").split(\",\")[-1]\n",
    "                if not b64:\n",
    "                    continue\n",
    "                img_file = f\"img-{img_idx}.jpeg\"\n",
    "                img_path = os.path.join(output_dir, img_file)\n",
    "                with open(img_path, \"wb\") as f:\n",
    "                    f.write(base64.b64decode(b64))\n",
    "                img_idx += 1"
   ]
  },
  {
   "cell_type": "code",
   "execution_count": null,
   "id": "b92235fd-fd1e-40f2-a7c3-4037578ad5dc",
   "metadata": {},
   "outputs": [],
   "source": [
    "for obj_info in ref.objects(prefix=\"\"):\n",
    "    path = obj_info.path\n",
    "    if not path.lower().endswith((\".pdf\", \".docx\")):\n",
    "        continue\n",
    "\n",
    "    # Use only the filename (no directories) for all downstream naming\n",
    "    file_name = os.path.basename(path)\n",
    "\n",
    "    # Stream the file bytes directly from lakeFS\n",
    "    with ref.object(path=path).reader(mode=\"rb\") as reader:\n",
    "        file_bytes = reader.read()\n",
    "\n",
    "    # Upload bytes, OCR, and write outputs\n",
    "    signed_url = get_signed_url_from_bytes(file_bytes, file_name)\n",
    "    ocr_resp   = run_mistral_ocr(file_name, signed_url)\n",
    "    process_ocr_response(file_name, ocr_resp)"
   ]
  },
  {
   "cell_type": "markdown",
   "id": "3e7b7948-cd39-4f27-a13e-dcc807d713ed",
   "metadata": {},
   "source": [
    "---"
   ]
  },
  {
   "cell_type": "code",
   "execution_count": null,
   "id": "bea1a0d5-abb4-412d-b894-57b63944aba0",
   "metadata": {},
   "outputs": [],
   "source": []
  }
 ],
 "metadata": {
  "kernelspec": {
   "display_name": "Python 3.9",
   "language": "python",
   "name": "python3"
  },
  "language_info": {
   "codemirror_mode": {
    "name": "ipython",
    "version": 3
   },
   "file_extension": ".py",
   "mimetype": "text/x-python",
   "name": "python",
   "nbconvert_exporter": "python",
   "pygments_lexer": "ipython3",
   "version": "3.9.18"
  }
 },
 "nbformat": 4,
 "nbformat_minor": 5
}
